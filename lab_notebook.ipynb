{
  "cells": [
    {
      "cell_type": "markdown",
      "metadata": {
        "id": "znYqXO--X7jN"
      },
      "source": [
        "## EDA LAB\n",
        "\n",
        "The General Social Survey (GSS) is a bi-annual nationally representative survey of Americans, with almost 7000 different questions asked since the survey began in the 1970s. It has straightforward questions about respondents' demographic information, but also questions like \"Does your job regularly require you to perform repetitive or forceful hand movements or involve awkward postures?\" or \"How often do the demands of your job interfere with your family life?\" There are a variety of controversial questions. No matter what you're curious about, there's something interesting in here to check out. The codebook is 904 pages (use CTRL+F to search it).\n",
        "\n",
        "The data and codebook are available at:\n",
        "https://gss.norc.org/us/en/gss/get-the-data.html\n",
        "\n",
        "The datasets are so large that it might make sense to pick the variables you want, and then download just those variables from:\n",
        "https://gssdataexplorer.norc.org/variables/vfilter\n",
        "\n",
        "Here is your task:\n",
        "1. Download a small (5-15) set of variables of interest. (You can also check out `get_gss.ipynb` for some processed data.)\n",
        "2. Write a short description of the data you chose, and why. (~500 words)\n",
        "3. Load the data using Pandas. Clean them up for EDA. Do this in this notebook with comments or markdown chunks explaining your choices.\n",
        "4. Produce some numeric summaries and visualizations.\n",
        "5. Describe your findings. (500 - 1000 words, or more)\n",
        "\n",
        "For example, you might want to look at how aspects of a person's childhood family are correlated or not with their career or family choices as an adult. Or how political or religious affiliations correlate with drug use or sexual practices. It's an extremely wide-ranging survey.\n"
      ]
    },
    {
      "cell_type": "markdown",
      "source": [
        "Question 2. Our lab is centered around media consumption and political views. There is significant interplay between the two spheres, stemming from the fact that different media forms and companies have specific slants with respect to political ideology. Media consumption has the power to influence and intensify political views. This dynamic is exemplified by political talk show hosts like Bill Maher and Tucker Carlson, who aim to garner viewership and convince viewers of their political position. Increasingly, politics are grossly intertwined with media presence—political media personalities operate as pseuod-influencers and pseudo-politicians. We hope to analyze political views as a function of media engagement across a few different sectors of the media, as well as incorporate demographic controls such as sex, age, level of education, and region.\n",
        "\n",
        "The full list of our variable set is as follows:\n",
        "1. TVHOURS: Hours per day spent watching television\n",
        "2. NEWS: Frequency of reading the newspaper\n",
        "3. NEWSFROM: Main source of information about events in the news\n",
        "4. PARTYID: Political party identification\n",
        "5. POLVIEWS: Political ideology (liberal/conservative scale)\n",
        "6. WHOVOTE24: Voting intention in 2024 election (Pre-July 2024)\n",
        "7. AGE: Age of respondent\n",
        "8. SEX: Sex of respondent\n",
        "9. EDUC: Highest year of school completed\n",
        "10. REGION: Region of interview\n",
        "11. RACE: Race of respondent (White/Black/Other; available for all years, simple to use)\n",
        "12. INCOME: Family income (categorical)\n",
        "13. REALINC: Family income (continuous in dollars)\n",
        "\n",
        "In selecting our data, we aimed to capture the multifaceted relationship between media consumption and political attitudes in the United States. The contemporary media landscape is marked by a proliferation of both traditional and digital platforms, each with distinct influences on how individuals encounter and process political information. It's our anecdotal understanding that people often gravitate toward media sources that reinforce their existing beliefs, which can contribute to political polarization. People seek out echo chambers that validate their pre-existing opinions. Digital media, especially social platforms, has the power to expose viewers to a wider array of viewpoints, but it also has the power to isolate people from opposing perspectives by only pushing content to them that they already support.\n",
        "\n",
        "Our variable set was chosen to reflect these dynamics. By including measures of television, newspaper, and internet use, we can compare the effects of different media types on political attitudes and behaviors. Political variables such as party identification, ideology, and voting behavior allow us to examine not just opinions, but also engagement. Demographic controls (age, sex, education, region, race, and income) are essential for understanding how media and politics intersect across diverse social groups.\n",
        "\n",
        "We hope to explore questions like: Do certain media habits predict stronger partisan behavior? Are there demographic divides in media use that map onto political ones? How does trust in government relate to both media consumption and socioeconomic status?\n",
        "\n",
        "The extracted data is stored under \"gss_media_pol.csv\" in this Github repo.\n"
      ],
      "metadata": {
        "id": "6KEQ1ZGHZKIP"
      }
    },
    {
      "cell_type": "code",
      "execution_count": null,
      "metadata": {
        "id": "NuuMTCfpX7jO"
      },
      "outputs": [],
      "source": []
    }
  ],
  "metadata": {
    "kernelspec": {
      "display_name": "Python 3 (ipykernel)",
      "language": "python",
      "name": "python3"
    },
    "language_info": {
      "codemirror_mode": {
        "name": "ipython",
        "version": 3
      },
      "file_extension": ".py",
      "mimetype": "text/x-python",
      "name": "python",
      "nbconvert_exporter": "python",
      "pygments_lexer": "ipython3",
      "version": "3.10.18"
    },
    "colab": {
      "provenance": []
    }
  },
  "nbformat": 4,
  "nbformat_minor": 0
}